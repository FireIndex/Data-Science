{
 "cells": [
  {
   "cell_type": "code",
   "execution_count": 1,
   "id": "81260a72",
   "metadata": {},
   "outputs": [],
   "source": [
    "import math\n",
    "import pandas as pd\n",
    "import numpy as np"
   ]
  },
  {
   "cell_type": "code",
   "execution_count": 2,
   "id": "7fbe8507",
   "metadata": {},
   "outputs": [],
   "source": [
    "matches = pd.read_csv(\"data/IPL_Matches_2008_2022.csv\")\n",
    "balls = pd.read_csv(\"data/IPL_Ball_by_Ball_2008_2022.csv\")"
   ]
  },
  {
   "cell_type": "code",
   "execution_count": 3,
   "id": "c5fa14fd",
   "metadata": {},
   "outputs": [
    {
     "name": "stdout",
     "output_type": "stream",
     "text": [
      "<class 'pandas.core.frame.DataFrame'>\n",
      "RangeIndex: 950 entries, 0 to 949\n",
      "Data columns (total 20 columns):\n",
      " #   Column           Non-Null Count  Dtype  \n",
      "---  ------           --------------  -----  \n",
      " 0   ID               950 non-null    int64  \n",
      " 1   City             899 non-null    object \n",
      " 2   Date             950 non-null    object \n",
      " 3   Season           950 non-null    object \n",
      " 4   MatchNumber      950 non-null    object \n",
      " 5   Team1            950 non-null    object \n",
      " 6   Team2            950 non-null    object \n",
      " 7   Venue            950 non-null    object \n",
      " 8   TossWinner       950 non-null    object \n",
      " 9   TossDecision     950 non-null    object \n",
      " 10  SuperOver        946 non-null    object \n",
      " 11  WinningTeam      946 non-null    object \n",
      " 12  WonBy            950 non-null    object \n",
      " 13  Margin           932 non-null    float64\n",
      " 14  method           19 non-null     object \n",
      " 15  Player_of_Match  946 non-null    object \n",
      " 16  Team1Players     950 non-null    object \n",
      " 17  Team2Players     950 non-null    object \n",
      " 18  Umpire1          950 non-null    object \n",
      " 19  Umpire2          950 non-null    object \n",
      "dtypes: float64(1), int64(1), object(18)\n",
      "memory usage: 148.6+ KB\n"
     ]
    }
   ],
   "source": [
    "matches.info()"
   ]
  },
  {
   "cell_type": "code",
   "execution_count": 4,
   "id": "8b189d9d",
   "metadata": {},
   "outputs": [
    {
     "name": "stdout",
     "output_type": "stream",
     "text": [
      "<class 'pandas.core.frame.DataFrame'>\n",
      "RangeIndex: 225954 entries, 0 to 225953\n",
      "Data columns (total 17 columns):\n",
      " #   Column             Non-Null Count   Dtype \n",
      "---  ------             --------------   ----- \n",
      " 0   ID                 225954 non-null  int64 \n",
      " 1   innings            225954 non-null  int64 \n",
      " 2   overs              225954 non-null  int64 \n",
      " 3   ballnumber         225954 non-null  int64 \n",
      " 4   batter             225954 non-null  object\n",
      " 5   bowler             225954 non-null  object\n",
      " 6   non-striker        225954 non-null  object\n",
      " 7   extra_type         12049 non-null   object\n",
      " 8   batsman_run        225954 non-null  int64 \n",
      " 9   extras_run         225954 non-null  int64 \n",
      " 10  total_run          225954 non-null  int64 \n",
      " 11  non_boundary       225954 non-null  int64 \n",
      " 12  isWicketDelivery   225954 non-null  int64 \n",
      " 13  player_out         11151 non-null   object\n",
      " 14  kind               11151 non-null   object\n",
      " 15  fielders_involved  7988 non-null    object\n",
      " 16  BattingTeam        225954 non-null  object\n",
      "dtypes: int64(9), object(8)\n",
      "memory usage: 29.3+ MB\n"
     ]
    }
   ],
   "source": [
    "balls.info()"
   ]
  },
  {
   "cell_type": "code",
   "execution_count": 5,
   "id": "fea58d2d",
   "metadata": {},
   "outputs": [
    {
     "name": "stdout",
     "output_type": "stream",
     "text": [
      "<class 'pandas.core.frame.DataFrame'>\n",
      "RangeIndex: 225954 entries, 0 to 225953\n",
      "Data columns (total 17 columns):\n",
      " #   Column             Non-Null Count   Dtype \n",
      "---  ------             --------------   ----- \n",
      " 0   ID                 225954 non-null  int32 \n",
      " 1   innings            225954 non-null  int64 \n",
      " 2   overs              225954 non-null  int64 \n",
      " 3   ballnumber         225954 non-null  int64 \n",
      " 4   batter             225954 non-null  object\n",
      " 5   bowler             225954 non-null  object\n",
      " 6   non-striker        225954 non-null  object\n",
      " 7   extra_type         12049 non-null   object\n",
      " 8   batsman_run        225954 non-null  int64 \n",
      " 9   extras_run         225954 non-null  int64 \n",
      " 10  total_run          225954 non-null  int64 \n",
      " 11  non_boundary       225954 non-null  int64 \n",
      " 12  isWicketDelivery   225954 non-null  int64 \n",
      " 13  player_out         11151 non-null   object\n",
      " 14  kind               11151 non-null   object\n",
      " 15  fielders_involved  7988 non-null    object\n",
      " 16  BattingTeam        225954 non-null  object\n",
      "dtypes: int32(1), int64(8), object(8)\n",
      "memory usage: 28.4+ MB\n"
     ]
    }
   ],
   "source": [
    "balls.ID = balls.ID.astype(np.int32)\n",
    "balls.info()"
   ]
  },
  {
   "cell_type": "code",
   "execution_count": 6,
   "id": "6589b97e",
   "metadata": {},
   "outputs": [
    {
     "name": "stdout",
     "output_type": "stream",
     "text": [
      "<class 'pandas.core.frame.DataFrame'>\n",
      "RangeIndex: 225954 entries, 0 to 225953\n",
      "Data columns (total 17 columns):\n",
      " #   Column             Non-Null Count   Dtype \n",
      "---  ------             --------------   ----- \n",
      " 0   ID                 225954 non-null  int32 \n",
      " 1   innings            225954 non-null  int8  \n",
      " 2   overs              225954 non-null  int64 \n",
      " 3   ballnumber         225954 non-null  int64 \n",
      " 4   batter             225954 non-null  object\n",
      " 5   bowler             225954 non-null  object\n",
      " 6   non-striker        225954 non-null  object\n",
      " 7   extra_type         12049 non-null   object\n",
      " 8   batsman_run        225954 non-null  int64 \n",
      " 9   extras_run         225954 non-null  int64 \n",
      " 10  total_run          225954 non-null  int64 \n",
      " 11  non_boundary       225954 non-null  int64 \n",
      " 12  isWicketDelivery   225954 non-null  int64 \n",
      " 13  player_out         11151 non-null   object\n",
      " 14  kind               11151 non-null   object\n",
      " 15  fielders_involved  7988 non-null    object\n",
      " 16  BattingTeam        225954 non-null  object\n",
      "dtypes: int32(1), int64(7), int8(1), object(8)\n",
      "memory usage: 26.9+ MB\n"
     ]
    }
   ],
   "source": [
    "balls.innings = balls.innings.astype(np.int8)\n",
    "balls.info()"
   ]
  },
  {
   "cell_type": "code",
   "execution_count": 7,
   "id": "5f88c20d",
   "metadata": {},
   "outputs": [
    {
     "name": "stdout",
     "output_type": "stream",
     "text": [
      "<class 'pandas.core.frame.DataFrame'>\n",
      "RangeIndex: 225954 entries, 0 to 225953\n",
      "Data columns (total 17 columns):\n",
      " #   Column             Non-Null Count   Dtype \n",
      "---  ------             --------------   ----- \n",
      " 0   ID                 225954 non-null  int32 \n",
      " 1   innings            225954 non-null  int8  \n",
      " 2   overs              225954 non-null  int8  \n",
      " 3   ballnumber         225954 non-null  int64 \n",
      " 4   batter             225954 non-null  object\n",
      " 5   bowler             225954 non-null  object\n",
      " 6   non-striker        225954 non-null  object\n",
      " 7   extra_type         12049 non-null   object\n",
      " 8   batsman_run        225954 non-null  int64 \n",
      " 9   extras_run         225954 non-null  int64 \n",
      " 10  total_run          225954 non-null  int64 \n",
      " 11  non_boundary       225954 non-null  int64 \n",
      " 12  isWicketDelivery   225954 non-null  int64 \n",
      " 13  player_out         11151 non-null   object\n",
      " 14  kind               11151 non-null   object\n",
      " 15  fielders_involved  7988 non-null    object\n",
      " 16  BattingTeam        225954 non-null  object\n",
      "dtypes: int32(1), int64(6), int8(2), object(8)\n",
      "memory usage: 25.4+ MB\n"
     ]
    }
   ],
   "source": [
    "balls.overs = balls.overs.astype(np.int8)\n",
    "balls.info()"
   ]
  },
  {
   "cell_type": "code",
   "execution_count": 8,
   "id": "35608a23",
   "metadata": {},
   "outputs": [
    {
     "name": "stdout",
     "output_type": "stream",
     "text": [
      "<class 'pandas.core.frame.DataFrame'>\n",
      "RangeIndex: 225954 entries, 0 to 225953\n",
      "Data columns (total 17 columns):\n",
      " #   Column             Non-Null Count   Dtype \n",
      "---  ------             --------------   ----- \n",
      " 0   ID                 225954 non-null  int32 \n",
      " 1   innings            225954 non-null  int8  \n",
      " 2   overs              225954 non-null  int8  \n",
      " 3   ballnumber         225954 non-null  int8  \n",
      " 4   batter             225954 non-null  object\n",
      " 5   bowler             225954 non-null  object\n",
      " 6   non-striker        225954 non-null  object\n",
      " 7   extra_type         12049 non-null   object\n",
      " 8   batsman_run        225954 non-null  int64 \n",
      " 9   extras_run         225954 non-null  int64 \n",
      " 10  total_run          225954 non-null  int64 \n",
      " 11  non_boundary       225954 non-null  int64 \n",
      " 12  isWicketDelivery   225954 non-null  int64 \n",
      " 13  player_out         11151 non-null   object\n",
      " 14  kind               11151 non-null   object\n",
      " 15  fielders_involved  7988 non-null    object\n",
      " 16  BattingTeam        225954 non-null  object\n",
      "dtypes: int32(1), int64(5), int8(3), object(8)\n",
      "memory usage: 23.9+ MB\n"
     ]
    }
   ],
   "source": [
    "balls.ballnumber = balls.ballnumber.astype(np.int8)\n",
    "balls.info()"
   ]
  },
  {
   "cell_type": "code",
   "execution_count": 9,
   "id": "fc31dcdd",
   "metadata": {},
   "outputs": [
    {
     "name": "stdout",
     "output_type": "stream",
     "text": [
      "<class 'pandas.core.frame.DataFrame'>\n",
      "RangeIndex: 225954 entries, 0 to 225953\n",
      "Data columns (total 17 columns):\n",
      " #   Column             Non-Null Count   Dtype   \n",
      "---  ------             --------------   -----   \n",
      " 0   ID                 225954 non-null  int32   \n",
      " 1   innings            225954 non-null  int8    \n",
      " 2   overs              225954 non-null  int8    \n",
      " 3   ballnumber         225954 non-null  int8    \n",
      " 4   batter             225954 non-null  category\n",
      " 5   bowler             225954 non-null  object  \n",
      " 6   non-striker        225954 non-null  object  \n",
      " 7   extra_type         12049 non-null   object  \n",
      " 8   batsman_run        225954 non-null  int64   \n",
      " 9   extras_run         225954 non-null  int64   \n",
      " 10  total_run          225954 non-null  int64   \n",
      " 11  non_boundary       225954 non-null  int64   \n",
      " 12  isWicketDelivery   225954 non-null  int64   \n",
      " 13  player_out         11151 non-null   object  \n",
      " 14  kind               11151 non-null   object  \n",
      " 15  fielders_involved  7988 non-null    object  \n",
      " 16  BattingTeam        225954 non-null  object  \n",
      "dtypes: category(1), int32(1), int64(5), int8(3), object(7)\n",
      "memory usage: 22.6+ MB\n"
     ]
    }
   ],
   "source": [
    "balls.batter = balls.batter.astype('category')\n",
    "balls.info()"
   ]
  },
  {
   "cell_type": "code",
   "execution_count": 10,
   "id": "138fdcf7",
   "metadata": {},
   "outputs": [
    {
     "name": "stdout",
     "output_type": "stream",
     "text": [
      "<class 'pandas.core.frame.DataFrame'>\n",
      "RangeIndex: 225954 entries, 0 to 225953\n",
      "Data columns (total 17 columns):\n",
      " #   Column             Non-Null Count   Dtype   \n",
      "---  ------             --------------   -----   \n",
      " 0   ID                 225954 non-null  int32   \n",
      " 1   innings            225954 non-null  int8    \n",
      " 2   overs              225954 non-null  int8    \n",
      " 3   ballnumber         225954 non-null  int8    \n",
      " 4   batter             225954 non-null  category\n",
      " 5   bowler             225954 non-null  category\n",
      " 6   non-striker        225954 non-null  object  \n",
      " 7   extra_type         12049 non-null   object  \n",
      " 8   batsman_run        225954 non-null  int64   \n",
      " 9   extras_run         225954 non-null  int64   \n",
      " 10  total_run          225954 non-null  int64   \n",
      " 11  non_boundary       225954 non-null  int64   \n",
      " 12  isWicketDelivery   225954 non-null  int64   \n",
      " 13  player_out         11151 non-null   object  \n",
      " 14  kind               11151 non-null   object  \n",
      " 15  fielders_involved  7988 non-null    object  \n",
      " 16  BattingTeam        225954 non-null  object  \n",
      "dtypes: category(2), int32(1), int64(5), int8(3), object(6)\n",
      "memory usage: 21.4+ MB\n"
     ]
    }
   ],
   "source": [
    "balls.bowler = balls.bowler.astype('category')\n",
    "balls.info()"
   ]
  },
  {
   "cell_type": "code",
   "execution_count": 11,
   "id": "0729ee4c",
   "metadata": {},
   "outputs": [
    {
     "name": "stdout",
     "output_type": "stream",
     "text": [
      "<class 'pandas.core.frame.DataFrame'>\n",
      "RangeIndex: 225954 entries, 0 to 225953\n",
      "Data columns (total 17 columns):\n",
      " #   Column             Non-Null Count   Dtype   \n",
      "---  ------             --------------   -----   \n",
      " 0   ID                 225954 non-null  int32   \n",
      " 1   innings            225954 non-null  int8    \n",
      " 2   overs              225954 non-null  int8    \n",
      " 3   ballnumber         225954 non-null  int8    \n",
      " 4   batter             225954 non-null  category\n",
      " 5   bowler             225954 non-null  category\n",
      " 6   non-striker        225954 non-null  category\n",
      " 7   extra_type         12049 non-null   object  \n",
      " 8   batsman_run        225954 non-null  int64   \n",
      " 9   extras_run         225954 non-null  int64   \n",
      " 10  total_run          225954 non-null  int64   \n",
      " 11  non_boundary       225954 non-null  int64   \n",
      " 12  isWicketDelivery   225954 non-null  int64   \n",
      " 13  player_out         11151 non-null   object  \n",
      " 14  kind               11151 non-null   object  \n",
      " 15  fielders_involved  7988 non-null    object  \n",
      " 16  BattingTeam        225954 non-null  object  \n",
      "dtypes: category(3), int32(1), int64(5), int8(3), object(5)\n",
      "memory usage: 20.1+ MB\n"
     ]
    }
   ],
   "source": [
    "balls['non-striker'] = balls['non-striker'].astype('category')\n",
    "balls.info()"
   ]
  },
  {
   "cell_type": "code",
   "execution_count": 12,
   "id": "aed1eff3",
   "metadata": {},
   "outputs": [
    {
     "name": "stdout",
     "output_type": "stream",
     "text": [
      "<class 'pandas.core.frame.DataFrame'>\n",
      "RangeIndex: 225954 entries, 0 to 225953\n",
      "Data columns (total 17 columns):\n",
      " #   Column             Non-Null Count   Dtype   \n",
      "---  ------             --------------   -----   \n",
      " 0   ID                 225954 non-null  int32   \n",
      " 1   innings            225954 non-null  int8    \n",
      " 2   overs              225954 non-null  int8    \n",
      " 3   ballnumber         225954 non-null  int8    \n",
      " 4   batter             225954 non-null  category\n",
      " 5   bowler             225954 non-null  category\n",
      " 6   non-striker        225954 non-null  category\n",
      " 7   extra_type         12049 non-null   object  \n",
      " 8   batsman_run        225954 non-null  int8    \n",
      " 9   extras_run         225954 non-null  int8    \n",
      " 10  total_run          225954 non-null  int8    \n",
      " 11  non_boundary       225954 non-null  int8    \n",
      " 12  isWicketDelivery   225954 non-null  int8    \n",
      " 13  player_out         11151 non-null   object  \n",
      " 14  kind               11151 non-null   object  \n",
      " 15  fielders_involved  7988 non-null    object  \n",
      " 16  BattingTeam        225954 non-null  object  \n",
      "dtypes: category(3), int32(1), int8(8), object(5)\n",
      "memory usage: 12.6+ MB\n"
     ]
    }
   ],
   "source": [
    "balls.batsman_run = balls.batsman_run.astype(np.int8)\n",
    "balls.extras_run = balls.extras_run.astype(np.int8)\n",
    "balls.total_run = balls.total_run.astype(np.int8)\n",
    "balls.non_boundary = balls.non_boundary.astype(np.int8)\n",
    "balls.isWicketDelivery = balls.isWicketDelivery.astype(np.int8)\n",
    "balls.info()"
   ]
  },
  {
   "cell_type": "code",
   "execution_count": 13,
   "id": "657a5d2a",
   "metadata": {},
   "outputs": [
    {
     "name": "stdout",
     "output_type": "stream",
     "text": [
      "<class 'pandas.core.frame.DataFrame'>\n",
      "RangeIndex: 225954 entries, 0 to 225953\n",
      "Data columns (total 17 columns):\n",
      " #   Column             Non-Null Count   Dtype   \n",
      "---  ------             --------------   -----   \n",
      " 0   ID                 225954 non-null  int32   \n",
      " 1   innings            225954 non-null  int8    \n",
      " 2   overs              225954 non-null  int8    \n",
      " 3   ballnumber         225954 non-null  int8    \n",
      " 4   batter             225954 non-null  category\n",
      " 5   bowler             225954 non-null  category\n",
      " 6   non-striker        225954 non-null  category\n",
      " 7   extra_type         12049 non-null   object  \n",
      " 8   batsman_run        225954 non-null  int8    \n",
      " 9   extras_run         225954 non-null  int8    \n",
      " 10  total_run          225954 non-null  int8    \n",
      " 11  non_boundary       225954 non-null  int8    \n",
      " 12  isWicketDelivery   225954 non-null  int8    \n",
      " 13  player_out         11151 non-null   category\n",
      " 14  kind               11151 non-null   object  \n",
      " 15  fielders_involved  7988 non-null    object  \n",
      " 16  BattingTeam        225954 non-null  object  \n",
      "dtypes: category(4), int32(1), int8(8), object(4)\n",
      "memory usage: 11.3+ MB\n"
     ]
    }
   ],
   "source": [
    "balls.player_out = balls.player_out.astype('category')\n",
    "balls.info()"
   ]
  },
  {
   "cell_type": "code",
   "execution_count": 14,
   "id": "b970bb76",
   "metadata": {},
   "outputs": [
    {
     "name": "stdout",
     "output_type": "stream",
     "text": [
      "<class 'pandas.core.frame.DataFrame'>\n",
      "RangeIndex: 225954 entries, 0 to 225953\n",
      "Data columns (total 17 columns):\n",
      " #   Column             Non-Null Count   Dtype   \n",
      "---  ------             --------------   -----   \n",
      " 0   ID                 225954 non-null  int32   \n",
      " 1   innings            225954 non-null  int8    \n",
      " 2   overs              225954 non-null  int8    \n",
      " 3   ballnumber         225954 non-null  int8    \n",
      " 4   batter             225954 non-null  category\n",
      " 5   bowler             225954 non-null  category\n",
      " 6   non-striker        225954 non-null  category\n",
      " 7   extra_type         12049 non-null   object  \n",
      " 8   batsman_run        225954 non-null  int8    \n",
      " 9   extras_run         225954 non-null  int8    \n",
      " 10  total_run          225954 non-null  int8    \n",
      " 11  non_boundary       225954 non-null  int8    \n",
      " 12  isWicketDelivery   225954 non-null  int8    \n",
      " 13  player_out         11151 non-null   category\n",
      " 14  kind               11151 non-null   category\n",
      " 15  fielders_involved  7988 non-null    object  \n",
      " 16  BattingTeam        225954 non-null  object  \n",
      "dtypes: category(5), int32(1), int8(8), object(3)\n",
      "memory usage: 9.8+ MB\n"
     ]
    }
   ],
   "source": [
    "balls.kind = balls.kind.astype('category')\n",
    "balls.info()"
   ]
  },
  {
   "cell_type": "code",
   "execution_count": 15,
   "id": "9b6a0ec1",
   "metadata": {},
   "outputs": [
    {
     "name": "stdout",
     "output_type": "stream",
     "text": [
      "<class 'pandas.core.frame.DataFrame'>\n",
      "RangeIndex: 225954 entries, 0 to 225953\n",
      "Data columns (total 17 columns):\n",
      " #   Column             Non-Null Count   Dtype   \n",
      "---  ------             --------------   -----   \n",
      " 0   ID                 225954 non-null  int32   \n",
      " 1   innings            225954 non-null  int8    \n",
      " 2   overs              225954 non-null  int8    \n",
      " 3   ballnumber         225954 non-null  int8    \n",
      " 4   batter             225954 non-null  category\n",
      " 5   bowler             225954 non-null  category\n",
      " 6   non-striker        225954 non-null  category\n",
      " 7   extra_type         12049 non-null   object  \n",
      " 8   batsman_run        225954 non-null  int8    \n",
      " 9   extras_run         225954 non-null  int8    \n",
      " 10  total_run          225954 non-null  int8    \n",
      " 11  non_boundary       225954 non-null  int8    \n",
      " 12  isWicketDelivery   225954 non-null  int8    \n",
      " 13  player_out         11151 non-null   category\n",
      " 14  kind               11151 non-null   category\n",
      " 15  fielders_involved  7988 non-null    category\n",
      " 16  BattingTeam        225954 non-null  object  \n",
      "dtypes: category(6), int32(1), int8(8), object(2)\n",
      "memory usage: 8.5+ MB\n"
     ]
    }
   ],
   "source": [
    "balls.fielders_involved = balls.fielders_involved.astype('category')\n",
    "balls.info()"
   ]
  },
  {
   "cell_type": "code",
   "execution_count": 16,
   "id": "a2d5105c",
   "metadata": {},
   "outputs": [
    {
     "name": "stdout",
     "output_type": "stream",
     "text": [
      "<class 'pandas.core.frame.DataFrame'>\n",
      "RangeIndex: 225954 entries, 0 to 225953\n",
      "Data columns (total 17 columns):\n",
      " #   Column             Non-Null Count   Dtype   \n",
      "---  ------             --------------   -----   \n",
      " 0   ID                 225954 non-null  int32   \n",
      " 1   innings            225954 non-null  int8    \n",
      " 2   overs              225954 non-null  int8    \n",
      " 3   ballnumber         225954 non-null  int8    \n",
      " 4   batter             225954 non-null  category\n",
      " 5   bowler             225954 non-null  category\n",
      " 6   non-striker        225954 non-null  category\n",
      " 7   extra_type         12049 non-null   object  \n",
      " 8   batsman_run        225954 non-null  int8    \n",
      " 9   extras_run         225954 non-null  int8    \n",
      " 10  total_run          225954 non-null  int8    \n",
      " 11  non_boundary       225954 non-null  int8    \n",
      " 12  isWicketDelivery   225954 non-null  int8    \n",
      " 13  player_out         11151 non-null   category\n",
      " 14  kind               11151 non-null   category\n",
      " 15  fielders_involved  7988 non-null    category\n",
      " 16  BattingTeam        225954 non-null  category\n",
      "dtypes: category(7), int32(1), int8(8), object(1)\n",
      "memory usage: 7.0+ MB\n"
     ]
    }
   ],
   "source": [
    "balls.BattingTeam = balls.BattingTeam.astype('category')\n",
    "balls.info()"
   ]
  },
  {
   "cell_type": "code",
   "execution_count": 17,
   "id": "bd097ac3",
   "metadata": {},
   "outputs": [
    {
     "name": "stdout",
     "output_type": "stream",
     "text": [
      "<class 'pandas.core.frame.DataFrame'>\n",
      "RangeIndex: 225954 entries, 0 to 225953\n",
      "Data columns (total 17 columns):\n",
      " #   Column             Non-Null Count   Dtype   \n",
      "---  ------             --------------   -----   \n",
      " 0   ID                 225954 non-null  int32   \n",
      " 1   innings            225954 non-null  int8    \n",
      " 2   overs              225954 non-null  int8    \n",
      " 3   ballnumber         225954 non-null  int8    \n",
      " 4   batter             225954 non-null  category\n",
      " 5   bowler             225954 non-null  category\n",
      " 6   non-striker        225954 non-null  category\n",
      " 7   extra_type         12049 non-null   category\n",
      " 8   batsman_run        225954 non-null  int8    \n",
      " 9   extras_run         225954 non-null  int8    \n",
      " 10  total_run          225954 non-null  int8    \n",
      " 11  non_boundary       225954 non-null  int8    \n",
      " 12  isWicketDelivery   225954 non-null  int8    \n",
      " 13  player_out         11151 non-null   category\n",
      " 14  kind               11151 non-null   category\n",
      " 15  fielders_involved  7988 non-null    category\n",
      " 16  BattingTeam        225954 non-null  category\n",
      "dtypes: category(8), int32(1), int8(8)\n",
      "memory usage: 5.5 MB\n"
     ]
    }
   ],
   "source": [
    "balls.extra_type = balls.extra_type.astype('category')\n",
    "balls.info()"
   ]
  },
  {
   "cell_type": "code",
   "execution_count": null,
   "id": "2a717215",
   "metadata": {},
   "outputs": [],
   "source": []
  },
  {
   "cell_type": "code",
   "execution_count": null,
   "id": "7b602f44",
   "metadata": {},
   "outputs": [],
   "source": []
  }
 ],
 "metadata": {
  "kernelspec": {
   "display_name": "Python 3 (ipykernel)",
   "language": "python",
   "name": "python3"
  },
  "language_info": {
   "codemirror_mode": {
    "name": "ipython",
    "version": 3
   },
   "file_extension": ".py",
   "mimetype": "text/x-python",
   "name": "python",
   "nbconvert_exporter": "python",
   "pygments_lexer": "ipython3",
   "version": "3.11.5"
  }
 },
 "nbformat": 4,
 "nbformat_minor": 5
}
